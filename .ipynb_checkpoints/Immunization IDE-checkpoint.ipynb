{
 "cells": [
  {
   "cell_type": "code",
   "execution_count": 9,
   "metadata": {},
   "outputs": [],
   "source": [
    "%matplotlib inline\n",
    "\n",
    "import numpy as np\n",
    "import pandas as pd\n",
    "import matplotlib.pyplot as plt\n",
    "import scipy.stats as stats\n",
    "from data_prep import *\n",
    "\n",
    "\n",
    "plt.style.use('ggplot')"
   ]
  },
  {
   "cell_type": "code",
   "execution_count": 30,
   "metadata": {},
   "outputs": [],
   "source": [
    "all45 = pd.read_csv('data/2014_15_All_Grades')\n",
    "k45 = pd.read_csv('data/2014_15_Kindergarten')\n",
    "six45 = pd.read_csv('data/2014_15_6th_Grade')"
   ]
  },
  {
   "cell_type": "code",
   "execution_count": 16,
   "metadata": {},
   "outputs": [
    {
     "name": "stdout",
     "output_type": "stream",
     "text": [
      "<class 'pandas.core.frame.DataFrame'>\n",
      "RangeIndex: 2636 entries, 0 to 2635\n",
      "Data columns (total 36 columns):\n",
      "School_Name                                    2636 non-null object\n",
      "School_year                                    2636 non-null object\n",
      "K_12_enrollment                                2441 non-null float64\n",
      "Percent_complete_for_all_immunizations         2441 non-null float64\n",
      "Percent_with_any_exemption                     2441 non-null float64\n",
      "Percent_with_medical_exemption                 2441 non-null float64\n",
      "Percent_with_personal_exemption                2441 non-null float64\n",
      "Percent_with_religious_exemption               2441 non-null float64\n",
      "Percent_with_religious_membership_exemption    2441 non-null float64\n",
      "Percent_exempt_for_diphtheria_tetanus          2441 non-null float64\n",
      "Percent_exempt_for_pertussis                   2441 non-null float64\n",
      "Percent_exempt_for_measles_mumps_rubella       2441 non-null float64\n",
      "Percent_exempt_for_polio                       2441 non-null float64\n",
      "Percent_exempt_for_HepatitisB                  2441 non-null float64\n",
      "Percent_exempt_for_varicella                   2441 non-null float64\n",
      "Number_complete_for_all_immunizations          2441 non-null float64\n",
      "Number_with_any_exemption                      2441 non-null float64\n",
      "Number_with_medical_exemption                  2441 non-null float64\n",
      "Number_with_personal_exemption                 2441 non-null float64\n",
      "Number_with_religious_exemption                2441 non-null float64\n",
      "Number_with_religious_membership_exemption     2441 non-null float64\n",
      "Number_exempt_for_diphtheria_tetanus           2441 non-null float64\n",
      "Number_exempt_for_pertussis                    2441 non-null float64\n",
      "Number_exempt_for_measles_mumps_rubella        2441 non-null float64\n",
      "Number_exempt_for_polio                        2441 non-null float64\n",
      "Number_exempt_for_HepatitisB                   2441 non-null float64\n",
      "Number_exempt_for_varicella                    2441 non-null float64\n",
      "Reported                                       2636 non-null object\n",
      "Address                                        2634 non-null object\n",
      "City                                           2636 non-null object\n",
      "School_District                                2636 non-null object\n",
      "County                                         2636 non-null object\n",
      "ESD                                            2636 non-null object\n",
      "Grade_Levels                                   2636 non-null object\n",
      "Has_kindergarten                               2636 non-null object\n",
      "Has_6thGrade                                   2636 non-null object\n",
      "dtypes: float64(25), object(11)\n",
      "memory usage: 741.5+ KB\n"
     ]
    }
   ],
   "source": [
    "all56 = read_"
   ]
  },
  {
   "cell_type": "code",
   "execution_count": 17,
   "metadata": {},
   "outputs": [
    {
     "name": "stdout",
     "output_type": "stream",
     "text": [
      "<class 'pandas.core.frame.DataFrame'>\n",
      "RangeIndex: 2636 entries, 0 to 2635\n",
      "Data columns (total 36 columns):\n",
      "School_Name                                    2636 non-null object\n",
      "School_year                                    2636 non-null object\n",
      "K_12_enrollment                                2441 non-null float64\n",
      "Percent_complete_for_all_immunizations         2441 non-null float64\n",
      "Percent_with_any_exemption                     2441 non-null float64\n",
      "Percent_with_medical_exemption                 2441 non-null float64\n",
      "Percent_with_personal_exemption                2441 non-null float64\n",
      "Percent_with_religious_exemption               2441 non-null float64\n",
      "Percent_with_religious_membership_exemption    2441 non-null float64\n",
      "Percent_exempt_for_diphtheria_tetanus          2441 non-null float64\n",
      "Percent_exempt_for_pertussis                   2441 non-null float64\n",
      "Percent_exempt_for_measles_mumps_rubella       2441 non-null float64\n",
      "Percent_exempt_for_polio                       2441 non-null float64\n",
      "Percent_exempt_for_HepatitisB                  2441 non-null float64\n",
      "Percent_exempt_for_varicella                   2441 non-null float64\n",
      "Number_complete_for_all_immunizations          2441 non-null float64\n",
      "Number_with_any_exemption                      2441 non-null float64\n",
      "Number_with_medical_exemption                  2441 non-null float64\n",
      "Number_with_personal_exemption                 2441 non-null float64\n",
      "Number_with_religious_exemption                2441 non-null float64\n",
      "Number_with_religious_membership_exemption     2441 non-null float64\n",
      "Number_exempt_for_diphtheria_tetanus           2441 non-null float64\n",
      "Number_exempt_for_pertussis                    2441 non-null float64\n",
      "Number_exempt_for_measles_mumps_rubella        2441 non-null float64\n",
      "Number_exempt_for_polio                        2441 non-null float64\n",
      "Number_exempt_for_HepatitisB                   2441 non-null float64\n",
      "Number_exempt_for_varicella                    2441 non-null float64\n",
      "Reported                                       2636 non-null object\n",
      "Address                                        2634 non-null object\n",
      "City                                           2636 non-null object\n",
      "School_District                                2636 non-null object\n",
      "County                                         2636 non-null object\n",
      "ESD                                            2636 non-null object\n",
      "Grade_Levels                                   2636 non-null object\n",
      "Has_kindergarten                               2636 non-null object\n",
      "Has_6thGrade                                   2636 non-null object\n",
      "dtypes: float64(25), object(11)\n",
      "memory usage: 741.5+ KB\n"
     ]
    }
   ],
   "source": [
    "all45.info()"
   ]
  },
  {
   "cell_type": "code",
   "execution_count": 31,
   "metadata": {},
   "outputs": [],
   "source": [
    "k45 = k45[(k45['Reported_enrollment'].isna() == False) & (k45['Reported_enrollment'] > 0)].copy()"
   ]
  },
  {
   "cell_type": "code",
   "execution_count": 33,
   "metadata": {},
   "outputs": [
    {
     "name": "stdout",
     "output_type": "stream",
     "text": [
      "<class 'pandas.core.frame.DataFrame'>\n",
      "Int64Index: 1456 entries, 325 to 2440\n",
      "Data columns (total 41 columns):\n",
      "School_Name                                    1456 non-null object\n",
      "School_Year                                    1456 non-null object\n",
      "Reported_enrollment                            1456 non-null float64\n",
      "Percent_complete_for_all_immunizations         1456 non-null float64\n",
      "Percent_conditional                            1456 non-null float64\n",
      "Percent_out_of_compliance                      1456 non-null float64\n",
      "Percent_with_any_exemption                     1456 non-null float64\n",
      "Percent_with_medical_exemption                 1456 non-null float64\n",
      "Percent_with_personal_exemption                1456 non-null float64\n",
      "Percent_with_religious_exemption               1456 non-null float64\n",
      "Percent_with_religious_membership_exemption    1456 non-null float64\n",
      "Percent_complete_for_diphtheria_tetanus        1456 non-null float64\n",
      "Percent_complete_for_pertussis                 1456 non-null float64\n",
      "Percent_complete_for_measles_mumps_rubella     1456 non-null float64\n",
      "Percent_complete_for_polio                     1456 non-null float64\n",
      "Percent_complete_for_HepatitisB                1456 non-null float64\n",
      "Percent_complete_for_varicella                 1456 non-null float64\n",
      "Number_complete_for_all_immunizations          1456 non-null float64\n",
      "Number_conditional                             1456 non-null float64\n",
      "Number_out_of_compliance                       1456 non-null float64\n",
      "Number_with_any_exemption                      1456 non-null float64\n",
      "Number_with_medical_exemption                  1456 non-null float64\n",
      "Number_with_personal_exemption                 1456 non-null float64\n",
      "Number_with_religious_exemption                1456 non-null float64\n",
      "Number_with_religious_membership_exemption     1456 non-null float64\n",
      "Number_incomplete_for_diphtheria_tetanus       1456 non-null float64\n",
      "Number_incomplete_for_pertussis                1456 non-null float64\n",
      "Number_incomplete_for_measles_mumps_rubella    1456 non-null float64\n",
      "Number_incomplete_for_polio                    1456 non-null float64\n",
      "Number_incomplete_for_HepatitisB               1456 non-null float64\n",
      "Number_incomplete_for_varicella                1456 non-null float64\n",
      "Reported                                       1456 non-null object\n",
      "Address                                        1456 non-null object\n",
      "City                                           1456 non-null object\n",
      "School_District                                1456 non-null object\n",
      "County                                         1456 non-null object\n",
      "ESD                                            1456 non-null object\n",
      "Grade_Levels                                   1456 non-null object\n",
      "Has_kindergarten                               1456 non-null object\n",
      "Has_6thGrade                                   1456 non-null object\n",
      "Location 1                                     0 non-null float64\n",
      "dtypes: float64(30), object(11)\n",
      "memory usage: 477.8+ KB\n"
     ]
    }
   ],
   "source": [
    "k45.info()"
   ]
  },
  {
   "cell_type": "code",
   "execution_count": null,
   "metadata": {},
   "outputs": [],
   "source": []
  }
 ],
 "metadata": {
  "kernelspec": {
   "display_name": "Python 3",
   "language": "python",
   "name": "python3"
  },
  "language_info": {
   "codemirror_mode": {
    "name": "ipython",
    "version": 3
   },
   "file_extension": ".py",
   "mimetype": "text/x-python",
   "name": "python",
   "nbconvert_exporter": "python",
   "pygments_lexer": "ipython3",
   "version": "3.7.3"
  }
 },
 "nbformat": 4,
 "nbformat_minor": 2
}
