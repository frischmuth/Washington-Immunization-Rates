{
 "cells": [
  {
   "cell_type": "raw",
   "metadata": {},
   "source": [
    "Useful Links\n",
    "\n",
    "https://www.doh.wa.gov/DataandStatisticalReports/HealthDataVisualization/SchoolImmunization\n",
    "https://www.k12.wa.us/data-reporting/data-portal\n",
    "https://data.wa.gov/browse  This is where I found the huge race dataset\n",
    "https://data.wa.gov/Education/Report-Card-Enrollment-from-2014-15-to-Current-Yea/rxjk-6ieq - All of the enrollment data"
   ]
  },
  {
   "cell_type": "code",
   "execution_count": 2,
   "metadata": {},
   "outputs": [],
   "source": [
    "%matplotlib inline\n",
    "%autoreload 2\n",
    "\n",
    "import numpy as np\n",
    "import pandas as pd\n",
    "import matplotlib.pyplot as plt\n",
    "import scipy.stats as stats\n",
    "from data_prep import *\n",
    "\n",
    "\n",
    "plt.style.use('ggplot')"
   ]
  },
  {
   "cell_type": "markdown",
   "metadata": {},
   "source": [
    "### Import all vaccine data\n",
    "There is data published for kindergarteners, sixth graders, and the entire age range. I tended to look primarily at the kindergarten data, but have access to all data."
   ]
  },
  {
   "cell_type": "code",
   "execution_count": 3,
   "metadata": {},
   "outputs": [],
   "source": [
    "all45 = read_vaccine_data('data/2014_15_All_Grades')\n",
    "k45 = read_vaccine_data('data/2014_15_Kindergarten')\n",
    "six45 = read_vaccine_data('data/2014_15_6th_Grade')\n",
    "all56 = read_vaccine_data('data/2015_16_All_Grades')\n",
    "k56 = read_vaccine_data('data/2015_16_Kindergarten')\n",
    "six56 = read_vaccine_data('data/2015_16_6th_Grade')\n",
    "all67 = read_vaccine_data('data/2016_17_All_Grades')\n",
    "k67 = read_vaccine_data('data/2016_17_Kindergarten')\n",
    "six67 = read_vaccine_data('data/2016_17_6th_Grade')\n",
    "all_demographic_data = read_demographic_data('data/Report_Card_Enrollment_from_2014-15_to_Current_Year.csv')"
   ]
  },
  {
   "cell_type": "markdown",
   "metadata": {},
   "source": [
    "### Import all demographic data\n",
    "Read the entire demographic csv and filter it out by school year and to only include data at the school level. There is also data at the district level, ESD level, and state level, but they were aggregated from the school data. These are the final three years available in csv prior to the publication of the dashboard."
   ]
  },
  {
   "cell_type": "code",
   "execution_count": 6,
   "metadata": {},
   "outputs": [],
   "source": [
    "demographics45 = all_demographic_data[(all_demographic_data['SchoolYear'] == '2014-15') & (all_demographic_data['OrganizationLevel'] == 'School')].copy()\n",
    "demographics56 = all_demographic_data[(all_demographic_data['SchoolYear'] == '2015-16') & (all_demographic_data['OrganizationLevel'] == 'School')].copy()\n",
    "demographics67 = all_demographic_data[(all_demographic_data['SchoolYear'] == '2016-17') & (all_demographic_data['OrganizationLevel'] == 'School')].copy()"
   ]
  },
  {
   "cell_type": "markdown",
   "metadata": {},
   "source": [
    "### Pull out all kindergarten information\n",
    "Most vaccines are required before starting kindergarten, so I assumed that all exemptions would have been taken by this point. I also imported sixth grade data for future analysis."
   ]
  },
  {
   "cell_type": "code",
   "execution_count": 8,
   "metadata": {},
   "outputs": [],
   "source": [
    "kindergarten45 = all_kindergarten(demographics45)\n",
    "kindergarten45 = convert_to_fractions(kindergarten45)\n",
    "kindergarten56 = all_kindergarten(demographics56)\n",
    "kindergarten56 = convert_to_fractions(kindergarten56)\n",
    "kindergarten67 = all_kindergarten(demographics67)\n",
    "kindergarten67 = convert_to_fractions(kindergarten67)\n",
    "\n",
    "six45 = all_sixth(demographics45)\n",
    "six45 = convert_to_fractions(six45)\n",
    "six56 = all_sixth(demographics56)\n",
    "six56 = convert_to_fractions(six56)\n",
    "six67 = all_sixth(demographics67)\n",
    "six67 = convert_to_fractions(six67)"
   ]
  },
  {
   "cell_type": "code",
   "execution_count": null,
   "metadata": {},
   "outputs": [],
   "source": []
  }
 ],
 "metadata": {
  "kernelspec": {
   "display_name": "Python 3",
   "language": "python",
   "name": "python3"
  },
  "language_info": {
   "codemirror_mode": {
    "name": "ipython",
    "version": 3
   },
   "file_extension": ".py",
   "mimetype": "text/x-python",
   "name": "python",
   "nbconvert_exporter": "python",
   "pygments_lexer": "ipython3",
   "version": "3.7.3"
  }
 },
 "nbformat": 4,
 "nbformat_minor": 2
}
